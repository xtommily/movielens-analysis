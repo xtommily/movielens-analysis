{
 "cells": [
  {
   "cell_type": "code",
   "execution_count": 2,
   "id": "e8d09fa5-4b95-4d57-a3b2-92b10ed0464b",
   "metadata": {},
   "outputs": [],
   "source": [
    "import psycopg2"
   ]
  },
  {
   "cell_type": "code",
   "execution_count": 46,
   "id": "b4414d5d-9dce-424c-9662-cc0f8df3b7c9",
   "metadata": {},
   "outputs": [
    {
     "name": "stdout",
     "output_type": "stream",
     "text": [
      "Database opened successfully\n"
     ]
    }
   ],
   "source": [
    "con = psycopg2.connect(database=\"movies\", \n",
    "                       user=\"postgres\", \n",
    "                       password=\"admin\", \n",
    "                       host=\"postgres\")\n",
    "cursor = con.cursor()\n",
    "print(\"Database opened successfully\")"
   ]
  },
  {
   "cell_type": "code",
   "execution_count": 47,
   "id": "404570ef-cbeb-4fa0-8711-36db73412957",
   "metadata": {},
   "outputs": [],
   "source": [
    "cursor.execute(\"\"\"\n",
    "DROP TABLE IF EXISTS ratings;\n",
    "CREATE TABLE ratings (\n",
    "  userid integer,\n",
    "  movieid integer NOT NULL,\n",
    "  rating integer,\n",
    "  timestamp integer,\n",
    "  PRIMARY KEY (movieid)\n",
    ");\n",
    "\n",
    "DROP TABLE IF EXISTS tags;\n",
    "CREATE TABLE tags (\n",
    "  userid integer,\n",
    "  movieid integer,\n",
    "  tag integer,\n",
    "  timestamp integer,\n",
    "  PRIMARY KEY (movieid)\n",
    ");\n",
    "\n",
    "DROP TABLE IF EXISTS movies;\n",
    "CREATE TABLE movies (\n",
    "  movieid integer,\n",
    "  title integer,\n",
    "  genres integer,\n",
    "  PRIMARY KEY (movieid)\n",
    ");\n",
    "\n",
    "DROP TABLE IF EXISTS links;\n",
    "CREATE TABLE links (\n",
    "  movieid integer NOT NULL,\n",
    "  imdbid integer,\n",
    "  tmbdid integer,\n",
    "  PRIMARY KEY (movieid)\n",
    ");\n",
    "\"\"\")\n",
    "con.commit()"
   ]
  },
  {
   "cell_type": "code",
   "execution_count": 35,
   "id": "5ee54ab8-d2b5-46a0-b136-41a61963e2df",
   "metadata": {},
   "outputs": [],
   "source": [
    "with open('data/links.csv', 'r') as f:\n",
    "    # Notice that we don't need the `csv` module.\n",
    "    next(f) # Skip the header row.\n",
    "    cursor.copy_from(f, 'links', sep=',', null='')\n",
    "con.commit()"
   ]
  },
  {
   "cell_type": "code",
   "execution_count": 39,
   "id": "99410188-9eb4-489a-a3e8-97e233c4d277",
   "metadata": {},
   "outputs": [],
   "source": [
    "cursor.execute(\"SELECT * FROM links\")\n",
    "one = cursor.fetchone()"
   ]
  },
  {
   "cell_type": "code",
   "execution_count": 40,
   "id": "d3deceea-c6f2-4c06-884e-ed8d52e96f11",
   "metadata": {},
   "outputs": [
    {
     "data": {
      "text/plain": [
       "(1, 114709, 862)"
      ]
     },
     "execution_count": 40,
     "metadata": {},
     "output_type": "execute_result"
    }
   ],
   "source": [
    "one"
   ]
  },
  {
   "cell_type": "code",
   "execution_count": 14,
   "id": "c4cc21a0-c16c-4b9e-95bb-78df446ca16b",
   "metadata": {},
   "outputs": [],
   "source": [
    "con.close()"
   ]
  }
 ],
 "metadata": {
  "kernelspec": {
   "display_name": "Python 3 (ipykernel)",
   "language": "python",
   "name": "python3"
  },
  "language_info": {
   "codemirror_mode": {
    "name": "ipython",
    "version": 3
   },
   "file_extension": ".py",
   "mimetype": "text/x-python",
   "name": "python",
   "nbconvert_exporter": "python",
   "pygments_lexer": "ipython3",
   "version": "3.9.7"
  }
 },
 "nbformat": 4,
 "nbformat_minor": 5
}
