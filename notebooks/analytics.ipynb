{
 "cells": [
  {
   "cell_type": "markdown",
   "id": "1a3b856b-b8e4-4936-bb86-e2d8b460bb2c",
   "metadata": {},
   "source": [
    "## Imports"
   ]
  },
  {
   "cell_type": "code",
   "execution_count": 1,
   "id": "e8d09fa5-4b95-4d57-a3b2-92b10ed0464b",
   "metadata": {},
   "outputs": [],
   "source": [
    "import psycopg2"
   ]
  },
  {
   "cell_type": "markdown",
   "id": "cb991a59-50c8-487d-af0d-3a0573c69720",
   "metadata": {},
   "source": [
    "## Open connection to db"
   ]
  },
  {
   "cell_type": "code",
   "execution_count": 2,
   "id": "b4414d5d-9dce-424c-9662-cc0f8df3b7c9",
   "metadata": {},
   "outputs": [
    {
     "name": "stdout",
     "output_type": "stream",
     "text": [
      "Database opened successfully\n"
     ]
    }
   ],
   "source": [
    "con = psycopg2.connect(database=\"movies\", \n",
    "                       user=\"postgres\", \n",
    "                       password=\"admin\", \n",
    "                       host=\"postgres\")\n",
    "cursor = con.cursor()\n",
    "print(\"Database opened successfully\")"
   ]
  },
  {
   "cell_type": "markdown",
   "id": "d427f870-d8d5-4bc5-84f7-6609212798ff",
   "metadata": {},
   "source": [
    "## Answer the questions"
   ]
  },
  {
   "cell_type": "markdown",
   "id": "9c254974-e302-4740-a7dd-9b443935e7fe",
   "metadata": {},
   "source": [
    "### 1. How many movies are in data set?"
   ]
  },
  {
   "cell_type": "code",
   "execution_count": 3,
   "id": "121a512e-3cb0-4b23-9dd3-f6a02ce1b42c",
   "metadata": {},
   "outputs": [
    {
     "name": "stdout",
     "output_type": "stream",
     "text": [
      "There are 9742 unique movie ids.\n"
     ]
    }
   ],
   "source": [
    "query = \"\"\"\n",
    "SELECT COUNT(DISTINCT movieid) \n",
    "FROM movies;\n",
    "\"\"\"\n",
    "\n",
    "cursor.execute(query)\n",
    "result = cursor.fetchone()\n",
    "\n",
    "print(f'There are {result[0]} unique movie ids.')"
   ]
  },
  {
   "cell_type": "code",
   "execution_count": 4,
   "id": "55d3bcb4-12ce-4b1c-83ee-300c9ab6b31a",
   "metadata": {
    "tags": []
   },
   "outputs": [
    {
     "name": "stdout",
     "output_type": "stream",
     "text": [
      "There are 9737 unique movie titles.\n"
     ]
    }
   ],
   "source": [
    "query = \"\"\"\n",
    "SELECT COUNT(DISTINCT title) \n",
    "FROM movies;\n",
    "\"\"\"\n",
    "\n",
    "cursor.execute(query)\n",
    "result = cursor.fetchone()\n",
    "\n",
    "print(f'There are {result[0]} unique movie titles.')"
   ]
  },
  {
   "cell_type": "code",
   "execution_count": 5,
   "id": "44c005fb-aaf8-4d37-85c4-3d44effd1786",
   "metadata": {},
   "outputs": [
    {
     "name": "stdout",
     "output_type": "stream",
     "text": [
      "There are duplicates in the table:\n",
      "\t'Eros (2004)' appears 2 times.\n",
      "\t'Saturn 3 (1980)' appears 2 times.\n",
      "\t'Confessions of a Dangerous Mind (2002)' appears 2 times.\n",
      "\t'Emma (1996)' appears 2 times.\n",
      "\t'War of the Worlds (2005)' appears 2 times.\n"
     ]
    }
   ],
   "source": [
    "query = \"\"\"\n",
    "SELECT title, COUNT(*)\n",
    "FROM movies\n",
    "GROUP BY title\n",
    "HAVING COUNT(*) > 1;\n",
    "\"\"\"\n",
    "\n",
    "cursor.execute(query)\n",
    "result = cursor.fetchall()\n",
    "\n",
    "print(\"There are duplicates in the table:\")\n",
    "for row in result:\n",
    "    print(f\"\\t'{row[0]}' appears {row[1]} times.\") "
   ]
  },
  {
   "cell_type": "code",
   "execution_count": 6,
   "id": "240c5785-8557-4efd-874f-00f163df0014",
   "metadata": {},
   "outputs": [
    {
     "name": "stdout",
     "output_type": "stream",
     "text": [
      "Differences for duplicates: \n",
      "- Eros (2004) with ids [32600, 147002] of genres [['Drama'], ['Drama', 'Romance']].\n",
      "- Saturn 3 (1980) with ids [2851, 168358] of genres [['Adventure', 'Sci-Fi', 'Thriller'], ['Sci-Fi', 'Thriller']].\n",
      "- Confessions of a Dangerous Mind (2002) with ids [6003, 144606] of genres [['Comedy', 'Crime', 'Drama', 'Thriller'], ['Comedy', 'Crime', 'Drama', 'Romance', 'Thriller']].\n",
      "- Emma (1996) with ids [838, 26958] of genres [['Comedy', 'Drama', 'Romance'], ['Romance']].\n",
      "- War of the Worlds (2005) with ids [34048, 64997] of genres [['Action', 'Adventure', 'Sci-Fi', 'Thriller'], ['Action', 'Sci-Fi']].\n"
     ]
    }
   ],
   "source": [
    "print('Differences for duplicates: ')\n",
    "for title, _ in result:\n",
    "    \n",
    "    query = f\"\"\"\n",
    "    SELECT *\n",
    "    FROM movies\n",
    "    where title='{title}';\n",
    "    \"\"\"\n",
    "    \n",
    "    cursor.execute(query)\n",
    "    result = cursor.fetchall()\n",
    "    \n",
    "    title = result[0][1]\n",
    "    ids = [movieid for movieid, *_ in result]\n",
    "    genres = [genre.split('|') for *_, genre in result]\n",
    "    print(f'- {title} with ids {ids} of genres {genres}.')"
   ]
  },
  {
   "cell_type": "markdown",
   "id": "512c2ee1-58e1-4530-be19-64fdc86d967c",
   "metadata": {},
   "source": [
    "### 2. What is the most common genre of movie?"
   ]
  },
  {
   "cell_type": "code",
   "execution_count": 7,
   "id": "53fa0ca6-6c48-4af5-94f4-771f0569e36f",
   "metadata": {},
   "outputs": [
    {
     "name": "stdout",
     "output_type": "stream",
     "text": [
      "Drama is the most common movie genre.\n"
     ]
    }
   ],
   "source": [
    "query = \"\"\"\n",
    "SELECT UNNEST(STRING_TO_ARRAY(genres, '|')) AS genre, COUNT(*) AS amount\n",
    "FROM movies\n",
    "GROUP BY genre\n",
    "ORDER BY amount DESC;\n",
    "\"\"\"\n",
    "\n",
    "cursor.execute(query)\n",
    "result = cursor.fetchone()\n",
    "\n",
    "print(f'{result[0]} is the most common movie genre.')"
   ]
  },
  {
   "cell_type": "markdown",
   "id": "83ffc564-e620-41ea-bcdb-f56ac3804d14",
   "metadata": {},
   "source": [
    "### 3. What are top 10 movies with highest rate?"
   ]
  },
  {
   "cell_type": "code",
   "execution_count": 8,
   "id": "111fd581-758d-45f6-8862-3b555e1d7e9f",
   "metadata": {},
   "outputs": [
    {
     "name": "stdout",
     "output_type": "stream",
     "text": [
      "Top 10 highest score movies at minimum 50 reviews:\n",
      "\tShawshank Redemption, The (1994) with score 4.43 and 317 reviews\n",
      "\tGodfather, The (1972) with score 4.29 and 192 reviews\n",
      "\tFight Club (1999) with score 4.27 and 218 reviews\n",
      "\tDr. Strangelove or: How I Learned to Stop Worrying and Love the Bomb (1964) with score 4.27 and 97 reviews\n",
      "\tCool Hand Luke (1967) with score 4.27 and 57 reviews\n",
      "\tRear Window (1954) with score 4.26 and 84 reviews\n",
      "\tGodfather: Part II, The (1974) with score 4.26 and 129 reviews\n",
      "\tDeparted, The (2006) with score 4.25 and 107 reviews\n",
      "\tGoodfellas (1990) with score 4.25 and 126 reviews\n",
      "\tCasablanca (1942) with score 4.24 and 100 reviews\n"
     ]
    }
   ],
   "source": [
    "MIN_AMOUNT_OF_REVIEWS = 50\n",
    "\n",
    "query = f\"\"\"\n",
    "SELECT title, AVG(rating)::numeric(10,2) AS score, COUNT(title) AS reviews\n",
    "FROM movies AS m\n",
    "JOIN ratings AS r\n",
    "ON m.movieid = r.movieid\n",
    "GROUP BY title\n",
    "HAVING count(title) > {MIN_AMOUNT_OF_REVIEWS}\n",
    "ORDER BY score DESC\n",
    "LIMIT 10;\n",
    "\"\"\"\n",
    "\n",
    "cursor.execute(query)\n",
    "result = cursor.fetchall()\n",
    "\n",
    "print(f'Top 10 highest score movies at minimum {MIN_AMOUNT_OF_REVIEWS} reviews:')\n",
    "for title, score, reviews in result:\n",
    "    print(f'\\t{title} with score {score} and {reviews} reviews')"
   ]
  },
  {
   "cell_type": "markdown",
   "id": "96d72da0-de05-4724-b8bb-6d336e82117b",
   "metadata": {},
   "source": [
    "### 4. What are 5 most often rating users?"
   ]
  },
  {
   "cell_type": "code",
   "execution_count": 9,
   "id": "8963fe47-63b1-4525-a4f5-c412db8c9c49",
   "metadata": {},
   "outputs": [
    {
     "name": "stdout",
     "output_type": "stream",
     "text": [
      "Top 5 most often rating users:\n",
      "\t1. user 414 with 2698 reviews\n",
      "\t2. user 599 with 2478 reviews\n",
      "\t3. user 474 with 2108 reviews\n",
      "\t4. user 448 with 1864 reviews\n",
      "\t5. user 274 with 1346 reviews\n"
     ]
    }
   ],
   "source": [
    "query = \"\"\"\n",
    "SELECT userid, COUNT(*)\n",
    "FROM ratings\n",
    "GROUP BY userid\n",
    "ORDER BY COUNT(*) DESC\n",
    "LIMIT 5;\n",
    "\"\"\"\n",
    "\n",
    "cursor.execute(query)\n",
    "result = cursor.fetchall()\n",
    "\n",
    "print(\"Top 5 most often rating users:\")\n",
    "for place, (userid, qty) in enumerate(result):\n",
    "    print(f'\\t{place+1}. user {userid} with {qty} reviews')"
   ]
  },
  {
   "cell_type": "markdown",
   "id": "d9120c67-5efc-464c-b748-ce1be5824a42",
   "metadata": {},
   "source": [
    "### 5. When was done first and last rate included in data set and what was the rated movie tittle?"
   ]
  },
  {
   "cell_type": "code",
   "execution_count": 10,
   "id": "800fd94a-646c-40c5-a7f8-96c111c0d6cb",
   "metadata": {},
   "outputs": [
    {
     "name": "stdout",
     "output_type": "stream",
     "text": [
      "The first reviews were uploaded on 1996-03-29 18:36:55+00:00 UTC for:\n",
      "\tAladdin (1992)\n",
      "\tApollo 13 (1995)\n",
      "\tBaby-Sitters Club, The (1995)\n",
      "\tBatman (1989)\n",
      "\tBeauty and the Beast (1991)\n",
      "\tBeverly Hills Cop III (1994)\n",
      "\tBlack Beauty (1994)\n",
      "\tBoys on the Side (1995)\n",
      "\tCircle of Friends (1995)\n",
      "\tCity Slickers II: The Legend of Curly's Gold (1994)\n",
      "\tClear and Present Danger (1994)\n",
      "\tCliffhanger (1993)\n",
      "\tCopycat (1995)\n",
      "\tCorrina, Corrina (1994)\n",
      "\tCrimson Tide (1995)\n",
      "\tDances with Wolves (1990)\n",
      "\tDie Hard: With a Vengeance (1995)\n",
      "\tDisclosure (1994)\n",
      "\tDrop Zone (1994)\n",
      "\tEnglishman Who Went Up a Hill But Came Down a Mountain, The (1995)\n"
     ]
    }
   ],
   "source": [
    "query = \"\"\"\n",
    "SELECT to_timestamp(timestamp), title\n",
    "FROM ratings AS r\n",
    "LEFT JOIN movies AS m\n",
    "ON r.movieid = m.movieid\n",
    "WHERE timestamp IN (SELECT min(timestamp) FROM ratings)\n",
    "ORDER BY title;\n",
    "\"\"\"\n",
    "\n",
    "cursor.execute(query)\n",
    "result = cursor.fetchall()\n",
    "\n",
    "print(f\"The first reviews were uploaded on {result[0][0]} UTC for:\")\n",
    "for row in result:\n",
    "    print(f'\\t{row[1]}')"
   ]
  },
  {
   "cell_type": "code",
   "execution_count": 11,
   "id": "9c2671cd-3a47-4eb1-978d-a93349709e86",
   "metadata": {},
   "outputs": [
    {
     "name": "stdout",
     "output_type": "stream",
     "text": [
      "The last review was uploaded on 2018-09-24 14:27:30+00:00 UTC for:\n",
      "\tCrumb (1994)\n"
     ]
    }
   ],
   "source": [
    "query = \"\"\"\n",
    "SELECT to_timestamp(timestamp), title\n",
    "FROM ratings AS r\n",
    "LEFT JOIN movies AS m\n",
    "ON r.movieid = m.movieid\n",
    "WHERE timestamp IN (SELECT max(timestamp) FROM ratings)\n",
    "ORDER BY title;\n",
    "\"\"\"\n",
    "\n",
    "cursor.execute(query)\n",
    "result = cursor.fetchall()\n",
    "\n",
    "print(f\"The last review was uploaded on {result[0][0]} UTC for:\")\n",
    "for row in result:\n",
    "    print(f'\\t{row[1]}')"
   ]
  },
  {
   "cell_type": "markdown",
   "id": "51448837-e71e-4f97-82dd-39ff7cfea637",
   "metadata": {},
   "source": [
    "### 6. Find all movies released in 1990"
   ]
  },
  {
   "cell_type": "code",
   "execution_count": 12,
   "id": "2f4e8417-c374-4b0c-9f88-e58aaf4e001e",
   "metadata": {},
   "outputs": [
    {
     "name": "stdout",
     "output_type": "stream",
     "text": [
      "List of movies released in 1990:\n",
      "\tAdventures of Ford Fairlane, The (1990)\n",
      "\tAir America (1990)\n",
      "\tAkira Kurosawa's Dreams (Dreams) (1990)\n",
      "\tAlice (1990)\n",
      "\tAll the Vermeers in New York (1990)\n",
      "\tAlmost an Angel (1990)\n",
      "\tAmityville Curse, The (1990)\n",
      "\tAngel at My Table, An (1990)\n",
      "\tAnother 48 Hrs. (1990)\n",
      "\tArachnophobia (1990)\n",
      "\tAvalon (1990)\n",
      "\tAwakenings (1990)\n",
      "\tBack to the Future Part III (1990)\n",
      "\tBegotten (1990)\n",
      "\tBetsy's Wedding (1990)\n",
      "\tBird on a Wire (1990)\n",
      "\tBlue Steel (1990)\n",
      "\tBonfire of the Vanities (1990)\n",
      "\tBook of Love (1990)\n",
      "\tBride of Re-Animator (1990)\n",
      "\tBullet in the Head (1990)\n",
      "\tCadillac Man (1990)\n",
      "\tCaptain America (1990)\n",
      "\tChild's Play 2 (1990)\n",
      "\tCivil War, The (1990)\n",
      "\tCome See the Paradise (1990)\n",
      "\tCry-Baby (1990)\n",
      "\tCyrano de Bergerac (1990)\n",
      "\tDances with Wolves (1990)\n",
      "\tDarkman (1990)\n",
      "\tDays of Being Wild (A Fei jingjyuhn) (1990)\n",
      "\tDays of Thunder (1990)\n",
      "\tDelta Force 2 (Delta Force 2: The Colombian Connection) (1990)\n",
      "\tDick Tracy (1990)\n",
      "\tDie Hard 2 (1990)\n",
      "\tDragon Ball Z: Bardock - The Father of Goku (Doragon bôru Z: Tatta hitori no saishuu kessen - Furiiza ni itonda Z senshi Kakarotto no chichi) (1990)\n",
      "\tDragon Ball Z the Movie: The Tree of Might (Doragon bôru Z 3: Chikyû marugoto chô kessen) (1990)\n",
      "\tDragon Ball Z the Movie: The World's Strongest (a.k.a. Dragon Ball Z: The Strongest Guy in The World) (Doragon bôru Z: Kono yo de ichiban tsuyoi yatsu) (1990)\n",
      "\tEdward Scissorhands (1990)\n",
      "\tErnest Goes to Jail (1990)\n",
      "\tEuropa Europa (Hitlerjunge Salomon) (1990)\n",
      "\tExorcist III, The (1990)\n",
      "\tFemme Nikita, La (Nikita) (1990)\n",
      "\tFlashback (1990)\n",
      "\tFlatliners (1990)\n",
      "\tFrankenstein Unbound (1990)\n",
      "\tFreshman, The (1990)\n",
      "\tGhost (1990)\n",
      "\tGhost Dad (1990)\n",
      "\tGodfather: Part III, The (1990)\n",
      "\tGoodfellas (1990)\n",
      "\tGreen Card (1990)\n",
      "\tGremlins 2: The New Batch (1990)\n",
      "\tGrifters, The (1990)\n",
      "\tGuardian, The (1990)\n",
      "\tHairdresser's Husband, The (Le mari de la coiffeuse) (1990)\n",
      "\tHamlet (1990)\n",
      "\tHandmaid's Tale, The (1990)\n",
      "\tHardware (1990)\n",
      "\tHeart Condition (1990)\n",
      "\tHeaven and Earth (Ten to Chi to) (1990)\n",
      "\tHenry & June (1990)\n",
      "\tHome Alone (1990)\n",
      "\tHot Spot, The (1990)\n",
      "\tHouse Party (1990)\n",
      "\tHunt for Red October, The (1990)\n",
      "\tI Bought a Vampire Motorcycle (1990)\n",
      "\tI Love You to Death (1990)\n",
      "\tIt (1990)\n",
      "\tJacob's Ladder (1990)\n",
      "\tJetsons: The Movie (1990)\n",
      "\tJoe Versus the Volcano (1990)\n",
      "\tJu Dou (1990)\n",
      "\tKindergarten Cop (1990)\n",
      "\tKing of New York (1990)\n",
      "\tKrays, The (1990)\n",
      "\tLionheart (1990)\n",
      "\tLong Walk Home, The (1990)\n",
      "\tLook Who's Talking Too (1990)\n",
      "\tLoose Cannons (1990)\n",
      "\tLord of the Flies (1990)\n",
      "\tMadhouse (1990)\n",
      "\tManiac Cop 2 (1990)\n",
      "\tMarked for Death (1990)\n",
      "\tMatch Factory Girl, The (Tulitikkutehtaan tyttö) (1990)\n",
      "\tMemphis Belle (1990)\n",
      "\tMen at Work (1990)\n",
      "\tMermaids (1990)\n",
      "\tMetropolitan (1990)\n",
      "\tMiami Blues (1990)\n",
      "\tMickey's The Prince and the Pauper (1990)\n",
      "\tMiller's Crossing (1990)\n",
      "\tMisery (1990)\n",
      "\tMo' Better Blues (1990)\n",
      "\tMountains of the Moon (1990)\n",
      "\tMr. Destiny (1990)\n",
      "\tMy Blue Heaven (1990)\n",
      "\tMy Father's Glory (La gloire de mon père) (1990)\n",
      "\tMy Mother's Castle (Château de ma mère, Le) (1990)\n",
      "\tNavy Seals (1990)\n",
      "\tNeverEnding Story II: The Next Chapter, The (1990)\n",
      "\tNightbreed (1990)\n",
      "\tNight of the Living Dead (1990)\n",
      "\tNuns on the Run (1990)\n",
      "\tPacific Heights (1990)\n",
      "\tParis Is Burning (1990)\n",
      "\tPredator 2 (1990)\n",
      "\tPresumed Innocent (1990)\n",
      "\tPretty Woman (1990)\n",
      "\tProblem Child (1990)\n",
      "\tPump Up the Volume (1990)\n",
      "\tQuick Change (1990)\n",
      "\tQuigley Down Under (1990)\n",
      "\tRepossessed (1990)\n",
      "\tRescuers Down Under, The (1990)\n",
      "\tRevenge (1990)\n",
      "\tReversal of Fortune (1990)\n",
      "\tRoboCop 2 (1990)\n",
      "\tRobot Jox (1990)\n",
      "\tRocky V (1990)\n",
      "\tRookie, The (1990)\n",
      "\tRosencrantz and Guildenstern Are Dead (1990)\n",
      "\tRussia House, The (1990)\n",
      "\tSheltering Sky, The (1990)\n",
      "\tSibling Rivalry (1990)\n",
      "\tSlumber Party Massacre III (1990)\n",
      "\tSorority House Massacre II (1990)\n",
      "\tSpaced Invaders (1990)\n",
      "\tStanley & Iris (1990)\n",
      "\tState of Grace (1990)\n",
      "\tTaking Care of Business (1990)\n",
      "\tTales from the Darkside: The Movie (1990)\n",
      "\tTeenage Mutant Ninja Turtles (1990)\n",
      "\tThe Forbidden Dance (1990)\n",
      "\tThree Men and a Little Lady (1990)\n",
      "\tTie Me Up! Tie Me Down! (¡Átame!) (1990)\n",
      "\tTotal Recall (1990)\n",
      "\tTremors (1990)\n",
      "\tTroll 2 (1990)\n",
      "\tTrust (1990)\n",
      "\tTwister (1990)\n",
      "\tTwo Jakes, The (1990)\n",
      "\tWhite Hunter, Black Heart (1990)\n",
      "\tWild at Heart (1990)\n",
      "\tWild Orchid (1990)\n",
      "\tWitches, The (1990)\n",
      "\tYoung Guns II (1990)\n"
     ]
    }
   ],
   "source": [
    "query = \"\"\"\n",
    "SELECT DISTINCT title\n",
    "FROM movies\n",
    "WHERE title LIKE '%(1990)';\n",
    "\"\"\"\n",
    "\n",
    "cursor.execute(query)\n",
    "result = cursor.fetchall()\n",
    "\n",
    "print(\"List of movies released in 1990:\")\n",
    "for title in result:\n",
    "    print(f'\\t{title[0]}')"
   ]
  },
  {
   "cell_type": "markdown",
   "id": "f892f651-0e63-4e5e-b114-003bba14dd74",
   "metadata": {},
   "source": [
    "## Close connection to database"
   ]
  },
  {
   "cell_type": "code",
   "execution_count": 13,
   "id": "c4cc21a0-c16c-4b9e-95bb-78df446ca16b",
   "metadata": {},
   "outputs": [],
   "source": [
    "con.close()"
   ]
  },
  {
   "cell_type": "code",
   "execution_count": null,
   "id": "cf5f9001-5108-4f3b-8205-31eb6e256501",
   "metadata": {},
   "outputs": [],
   "source": []
  }
 ],
 "metadata": {
  "kernelspec": {
   "display_name": "Python 3 (ipykernel)",
   "language": "python",
   "name": "python3"
  },
  "language_info": {
   "codemirror_mode": {
    "name": "ipython",
    "version": 3
   },
   "file_extension": ".py",
   "mimetype": "text/x-python",
   "name": "python",
   "nbconvert_exporter": "python",
   "pygments_lexer": "ipython3",
   "version": "3.9.7"
  }
 },
 "nbformat": 4,
 "nbformat_minor": 5
}
