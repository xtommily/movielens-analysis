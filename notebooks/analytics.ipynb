{
 "cells": [
  {
   "cell_type": "code",
   "execution_count": 1,
   "id": "e8d09fa5-4b95-4d57-a3b2-92b10ed0464b",
   "metadata": {},
   "outputs": [],
   "source": [
    "import psycopg2"
   ]
  },
  {
   "cell_type": "code",
   "execution_count": 2,
   "id": "b4414d5d-9dce-424c-9662-cc0f8df3b7c9",
   "metadata": {},
   "outputs": [
    {
     "name": "stdout",
     "output_type": "stream",
     "text": [
      "Database opened successfully\n"
     ]
    }
   ],
   "source": [
    "con = psycopg2.connect(database=\"movies\", \n",
    "                       user=\"postgres\", \n",
    "                       password=\"admin\", \n",
    "                       host=\"postgres\")\n",
    "\n",
    "print(\"Database opened successfully\")"
   ]
  },
  {
   "cell_type": "code",
   "execution_count": null,
   "id": "404570ef-cbeb-4fa0-8711-36db73412957",
   "metadata": {},
   "outputs": [],
   "source": []
  }
 ],
 "metadata": {
  "kernelspec": {
   "display_name": "Python 3 (ipykernel)",
   "language": "python",
   "name": "python3"
  },
  "language_info": {
   "codemirror_mode": {
    "name": "ipython",
    "version": 3
   },
   "file_extension": ".py",
   "mimetype": "text/x-python",
   "name": "python",
   "nbconvert_exporter": "python",
   "pygments_lexer": "ipython3",
   "version": "3.9.7"
  }
 },
 "nbformat": 4,
 "nbformat_minor": 5
}
